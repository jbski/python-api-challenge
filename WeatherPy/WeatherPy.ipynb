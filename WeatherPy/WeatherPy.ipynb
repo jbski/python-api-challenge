{
 "cells": [
  {
   "cell_type": "markdown",
   "metadata": {},
   "source": [
    "# WeatherPy"
   ]
  },
  {
   "cell_type": "code",
   "execution_count": 1,
   "metadata": {},
   "outputs": [],
   "source": [
    "import matplotlib.pyplot as plt\n",
    "import requests\n",
    "import pandas as pd\n",
    "import numpy as np\n",
    "import random\n",
    "from config import weather_api_key\n",
    "from config import g_key\n",
    "from citipy import citipy\n",
    "from pprint import pprint\n"
   ]
  },
  {
   "cell_type": "markdown",
   "metadata": {},
   "source": [
    "## Generate Cities List"
   ]
  },
  {
   "cell_type": "code",
   "execution_count": 2,
   "metadata": {},
   "outputs": [
    {
     "name": "stdout",
     "output_type": "stream",
     "text": [
      "There are 89 cities in the generated list.\n"
     ]
    }
   ],
   "source": [
    "lat = np.random.uniform(low = -90.000, high = 90.000, size = 100 )\n",
    "lng = np.random.uniform(low = -180.000, high = 180.000, size = 100)\n",
    "coordinates = zip(lat, lng)\n",
    "\n",
    "city_list = []\n",
    "\n",
    "for lat_long in coordinates:\n",
    "    city = citipy.nearest_city(lat_long[0], lat_long[1])\n",
    "    city = city.city_name\n",
    "    \n",
    "    if city not in city_list:\n",
    "        city_list.append(city)    \n",
    "\n",
    "print(f'There are {len(city_list)} cities in the generated list.')"
   ]
  },
  {
   "cell_type": "markdown",
   "metadata": {},
   "source": [
    "### Perform API Calls"
   ]
  },
  {
   "cell_type": "code",
   "execution_count": 3,
   "metadata": {
    "scrolled": true
   },
   "outputs": [
    {
     "name": "stdout",
     "output_type": "stream",
     "text": [
      "Processing record 1 of set 1 | san jose.\n",
      "Processing record 2 of set 1 | puerto ayora.\n",
      "Processing record 3 of set 1 | albany.\n",
      "Processing record 4 of set 1 | port-gentil.\n",
      "Processing record 5 of set 1 | vaini.\n",
      "Processing record 6 of set 1 | ape.\n",
      "Processing record 7 of set 1 | jamestown.\n",
      "Processing record 8 of set 1 | ankazobe.\n",
      "City not found. Skipping...\n",
      "Processing record 9 of set 1 | meulaboh.\n",
      "City not found. Skipping...\n",
      "City not found. Skipping...\n",
      "Processing record 10 of set 1 | ketchikan.\n",
      "Processing record 11 of set 1 | ulaangom.\n",
      "Processing record 12 of set 1 | chara.\n",
      "Processing record 13 of set 1 | mar del plata.\n",
      "Processing record 14 of set 1 | chuy.\n",
      "Processing record 15 of set 1 | qaanaaq.\n",
      "Processing record 16 of set 1 | nikolskoye.\n",
      "Processing record 17 of set 1 | mataura.\n",
      "Processing record 18 of set 1 | bougouni.\n",
      "Processing record 19 of set 1 | alofi.\n",
      "Processing record 20 of set 1 | port elizabeth.\n",
      "Processing record 21 of set 1 | marsh harbour.\n",
      "Processing record 22 of set 1 | port blair.\n",
      "Processing record 23 of set 1 | berlevag.\n",
      "Processing record 24 of set 1 | ushuaia.\n",
      "Processing record 25 of set 1 | butaritari.\n",
      "Processing record 26 of set 1 | bredasdorp.\n",
      "Processing record 27 of set 1 | lompoc.\n",
      "Processing record 28 of set 1 | bage.\n",
      "Processing record 29 of set 1 | dingle.\n",
      "Processing record 30 of set 1 | nemuro.\n",
      "Processing record 31 of set 1 | ahipara.\n",
      "Processing record 32 of set 1 | yellowknife.\n",
      "Processing record 33 of set 1 | hithadhoo.\n",
      "Processing record 34 of set 1 | kurara.\n",
      "Processing record 35 of set 1 | lupiro.\n",
      "Processing record 36 of set 1 | port pirie.\n",
      "Processing record 37 of set 1 | carnarvon.\n",
      "Processing record 38 of set 1 | tiksi.\n",
      "Processing record 39 of set 1 | iracoubo.\n",
      "Processing record 40 of set 1 | gambiran.\n",
      "Processing record 41 of set 1 | punta arenas.\n",
      "Processing record 42 of set 1 | tasiilaq.\n",
      "Processing record 43 of set 1 | orsha.\n",
      "Processing record 44 of set 1 | cape town.\n",
      "City not found. Skipping...\n",
      "Processing record 45 of set 1 | rovaniemi.\n",
      "Processing record 46 of set 1 | nantucket.\n",
      "Processing record 47 of set 1 | atuona.\n",
      "Processing record 48 of set 1 | bowen.\n",
      "Processing record 49 of set 1 | barrow.\n",
      "Processing record 50 of set 1 | wencheng.\n",
      "Processing record 1 of set 2 | rikitea.\n",
      "Processing record 2 of set 2 | port alfred.\n",
      "Processing record 3 of set 2 | sciacca.\n",
      "Processing record 4 of set 2 | faanui.\n",
      "Processing record 5 of set 2 | hilo.\n",
      "Processing record 6 of set 2 | hadejia.\n",
      "Processing record 7 of set 2 | hobart.\n",
      "Processing record 8 of set 2 | bluff.\n",
      "Processing record 9 of set 2 | dudinka.\n",
      "Processing record 10 of set 2 | verkhoyansk.\n",
      "Processing record 11 of set 2 | bambari.\n",
      "Processing record 12 of set 2 | isla mujeres.\n",
      "Processing record 13 of set 2 | guerrero negro.\n",
      "Processing record 14 of set 2 | talnakh.\n",
      "Processing record 15 of set 2 | cayenne.\n",
      "City not found. Skipping...\n",
      "Processing record 16 of set 2 | batagay.\n",
      "Processing record 17 of set 2 | norman wells.\n",
      "Processing record 18 of set 2 | egvekinot.\n",
      "Processing record 19 of set 2 | martin.\n",
      "Processing record 20 of set 2 | khatanga.\n",
      "Processing record 21 of set 2 | arraial do cabo.\n",
      "Processing record 22 of set 2 | kidal.\n",
      "Processing record 23 of set 2 | hermanus.\n",
      "City not found. Skipping...\n",
      "Processing record 24 of set 2 | lebu.\n",
      "Processing record 25 of set 2 | tual.\n",
      "Processing record 26 of set 2 | christchurch.\n",
      "Processing record 27 of set 2 | zihuatanejo.\n",
      "City not found. Skipping...\n",
      "Processing record 28 of set 2 | rondonopolis.\n",
      "Processing record 29 of set 2 | zhigansk.\n",
      "Processing record 30 of set 2 | kapoeta.\n",
      "Processing record 31 of set 2 | pevek.\n",
      "Processing record 32 of set 2 | kavaratti.\n",
      "----------------------------------\n",
      "Data Retrieval Complete\n",
      "----------------------------------\n"
     ]
    }
   ],
   "source": [
    "act_city_name = []\n",
    "country = []\n",
    "temperature = []\n",
    "humidity = []\n",
    "cloudiness = []\n",
    "wind_speed = []\n",
    "lattitude = []\n",
    "longitude = []\n",
    "date = []\n",
    "\n",
    "temp_units = \"imperial\"\n",
    "city_url = f\"http://api.openweathermap.org/data/2.5/weather?appid={weather_api_key}&units={temp_units}&q=\"\n",
    "\n",
    "record_counter = 0\n",
    "set_counter = 1\n",
    "\n",
    "for city_name in city_list:\n",
    "    query = (city_url + city_name)\n",
    "    response = requests.get(query).json()\n",
    "    record_counter += 1\n",
    "#     pprint(response)\n",
    "    \n",
    "    try:\n",
    "        temperature.append(response['main']['temp_max'])\n",
    "        humidity.append(response['main']['humidity'])\n",
    "        cloudiness.append(response['clouds']['all'])\n",
    "        wind_speed.append(response['wind']['speed'])\n",
    "        lattitude.append(response['coord']['lat'])\n",
    "        longitude.append(response['coord']['lat'])\n",
    "        act_city_name.append(response['name'])\n",
    "        country.append(response['sys']['country'])\n",
    "        date.append(response['dt'])\n",
    "        \n",
    "        if record_counter > 50:\n",
    "            record_counter = 1\n",
    "            set_counter += 1\n",
    "            \n",
    "        print(f'Processing record {record_counter} of set {set_counter} | {city_name}.')\n",
    "    \n",
    "    except:\n",
    "        record_counter -= 1\n",
    "        print(f'City not found. Skipping...')\n",
    "print('----------------------------------')\n",
    "print('Data Retrieval Complete')\n",
    "print('----------------------------------')\n"
   ]
  },
  {
   "cell_type": "markdown",
   "metadata": {},
   "source": [
    "## Convert Raw Data to DataFrame"
   ]
  },
  {
   "cell_type": "code",
   "execution_count": 4,
   "metadata": {},
   "outputs": [
    {
     "data": {
      "text/html": [
       "<div>\n",
       "<style scoped>\n",
       "    .dataframe tbody tr th:only-of-type {\n",
       "        vertical-align: middle;\n",
       "    }\n",
       "\n",
       "    .dataframe tbody tr th {\n",
       "        vertical-align: top;\n",
       "    }\n",
       "\n",
       "    .dataframe thead th {\n",
       "        text-align: right;\n",
       "    }\n",
       "</style>\n",
       "<table border=\"1\" class=\"dataframe\">\n",
       "  <thead>\n",
       "    <tr style=\"text-align: right;\">\n",
       "      <th></th>\n",
       "      <th>City</th>\n",
       "      <th>Lat</th>\n",
       "      <th>Lng</th>\n",
       "      <th>Max Temp</th>\n",
       "      <th>Humidity</th>\n",
       "      <th>Cloudiness</th>\n",
       "      <th>Wind Speed</th>\n",
       "      <th>Country</th>\n",
       "      <th>Date</th>\n",
       "      <th>Hemisphere</th>\n",
       "    </tr>\n",
       "  </thead>\n",
       "  <tbody>\n",
       "    <tr>\n",
       "      <th>0</th>\n",
       "      <td>San Jose</td>\n",
       "      <td>37.34</td>\n",
       "      <td>37.34</td>\n",
       "      <td>69.01</td>\n",
       "      <td>75</td>\n",
       "      <td>61</td>\n",
       "      <td>2.01</td>\n",
       "      <td>US</td>\n",
       "      <td>1601186009</td>\n",
       "      <td>Northern Hemisphere</td>\n",
       "    </tr>\n",
       "    <tr>\n",
       "      <th>1</th>\n",
       "      <td>Puerto Ayora</td>\n",
       "      <td>-0.74</td>\n",
       "      <td>-0.74</td>\n",
       "      <td>69.01</td>\n",
       "      <td>88</td>\n",
       "      <td>13</td>\n",
       "      <td>5.01</td>\n",
       "      <td>EC</td>\n",
       "      <td>1601185906</td>\n",
       "      <td>Southern Hemisphere</td>\n",
       "    </tr>\n",
       "    <tr>\n",
       "      <th>2</th>\n",
       "      <td>Albany</td>\n",
       "      <td>42.60</td>\n",
       "      <td>42.60</td>\n",
       "      <td>68.00</td>\n",
       "      <td>96</td>\n",
       "      <td>14</td>\n",
       "      <td>4.54</td>\n",
       "      <td>US</td>\n",
       "      <td>1601185716</td>\n",
       "      <td>Northern Hemisphere</td>\n",
       "    </tr>\n",
       "    <tr>\n",
       "      <th>3</th>\n",
       "      <td>Port-Gentil</td>\n",
       "      <td>-0.72</td>\n",
       "      <td>-0.72</td>\n",
       "      <td>77.00</td>\n",
       "      <td>83</td>\n",
       "      <td>20</td>\n",
       "      <td>11.41</td>\n",
       "      <td>GA</td>\n",
       "      <td>1601186064</td>\n",
       "      <td>Southern Hemisphere</td>\n",
       "    </tr>\n",
       "    <tr>\n",
       "      <th>4</th>\n",
       "      <td>Vaini</td>\n",
       "      <td>-21.20</td>\n",
       "      <td>-21.20</td>\n",
       "      <td>75.20</td>\n",
       "      <td>73</td>\n",
       "      <td>20</td>\n",
       "      <td>10.29</td>\n",
       "      <td>TO</td>\n",
       "      <td>1601185912</td>\n",
       "      <td>Southern Hemisphere</td>\n",
       "    </tr>\n",
       "  </tbody>\n",
       "</table>\n",
       "</div>"
      ],
      "text/plain": [
       "           City    Lat    Lng  Max Temp  Humidity  Cloudiness  Wind Speed  \\\n",
       "0      San Jose  37.34  37.34     69.01        75          61        2.01   \n",
       "1  Puerto Ayora  -0.74  -0.74     69.01        88          13        5.01   \n",
       "2        Albany  42.60  42.60     68.00        96          14        4.54   \n",
       "3   Port-Gentil  -0.72  -0.72     77.00        83          20       11.41   \n",
       "4         Vaini -21.20 -21.20     75.20        73          20       10.29   \n",
       "\n",
       "  Country        Date           Hemisphere  \n",
       "0      US  1601186009  Northern Hemisphere  \n",
       "1      EC  1601185906  Southern Hemisphere  \n",
       "2      US  1601185716  Northern Hemisphere  \n",
       "3      GA  1601186064  Southern Hemisphere  \n",
       "4      TO  1601185912  Southern Hemisphere  "
      ]
     },
     "execution_count": 4,
     "metadata": {},
     "output_type": "execute_result"
    }
   ],
   "source": [
    "# Create DataFrame\n",
    "geo_weather_data_df = pd.DataFrame({\n",
    "    'City' : act_city_name,\n",
    "    'Lat' : lattitude,\n",
    "    'Lng' : longitude,\n",
    "    'Max Temp' : temperature,\n",
    "    'Humidity' : humidity,\n",
    "    'Cloudiness' : cloudiness,\n",
    "    'Wind Speed' : wind_speed,\n",
    "    'Country' : country,\n",
    "    'Date' : date\n",
    "})\n",
    "\n",
    "# Add a column for hemisphere\n",
    "def get_hemisphere(row):\n",
    "    \n",
    "    lattitude = row[2]    \n",
    "    if lattitude >= 0:\n",
    "        return \"Northern Hemisphere\"\n",
    "    else:\n",
    "        return \"Southern Hemisphere\"\n",
    "\n",
    "# Call the get_hemisphere function to append a new Hemisphere column to the dataframe\n",
    "geo_weather_data_df[\"Hemisphere\"] = geo_weather_data_df.apply(get_hemisphere, axis=\"columns\")\n",
    "\n",
    "# Export city data to a .csv\n",
    "geo_weather_data_df.to_csv(\"Raw City Weather Data.csv\")\n",
    "\n",
    "# Display the dataframe\n",
    "geo_weather_data_df.head()"
   ]
  },
  {
   "cell_type": "markdown",
   "metadata": {},
   "source": [
    "### Inspect the data and remove the cities where the humidity > 100%"
   ]
  },
  {
   "cell_type": "code",
   "execution_count": 5,
   "metadata": {},
   "outputs": [
    {
     "data": {
      "text/html": [
       "<div>\n",
       "<style scoped>\n",
       "    .dataframe tbody tr th:only-of-type {\n",
       "        vertical-align: middle;\n",
       "    }\n",
       "\n",
       "    .dataframe tbody tr th {\n",
       "        vertical-align: top;\n",
       "    }\n",
       "\n",
       "    .dataframe thead th {\n",
       "        text-align: right;\n",
       "    }\n",
       "</style>\n",
       "<table border=\"1\" class=\"dataframe\">\n",
       "  <thead>\n",
       "    <tr style=\"text-align: right;\">\n",
       "      <th></th>\n",
       "      <th>Lat</th>\n",
       "      <th>Lng</th>\n",
       "      <th>Max Temp</th>\n",
       "      <th>Humidity</th>\n",
       "      <th>Cloudiness</th>\n",
       "      <th>Wind Speed</th>\n",
       "      <th>Date</th>\n",
       "    </tr>\n",
       "  </thead>\n",
       "  <tbody>\n",
       "    <tr>\n",
       "      <th>count</th>\n",
       "      <td>82.00000</td>\n",
       "      <td>82.00000</td>\n",
       "      <td>82.000000</td>\n",
       "      <td>82.000000</td>\n",
       "      <td>82.000000</td>\n",
       "      <td>82.000000</td>\n",
       "      <td>8.200000e+01</td>\n",
       "    </tr>\n",
       "    <tr>\n",
       "      <th>mean</th>\n",
       "      <td>13.82878</td>\n",
       "      <td>13.82878</td>\n",
       "      <td>61.896585</td>\n",
       "      <td>76.231707</td>\n",
       "      <td>45.548780</td>\n",
       "      <td>8.666829</td>\n",
       "      <td>1.601186e+09</td>\n",
       "    </tr>\n",
       "    <tr>\n",
       "      <th>std</th>\n",
       "      <td>39.63163</td>\n",
       "      <td>39.63163</td>\n",
       "      <td>17.926690</td>\n",
       "      <td>16.675034</td>\n",
       "      <td>36.426877</td>\n",
       "      <td>5.169812</td>\n",
       "      <td>9.501693e+01</td>\n",
       "    </tr>\n",
       "    <tr>\n",
       "      <th>min</th>\n",
       "      <td>-54.80000</td>\n",
       "      <td>-54.80000</td>\n",
       "      <td>12.000000</td>\n",
       "      <td>14.000000</td>\n",
       "      <td>0.000000</td>\n",
       "      <td>0.650000</td>\n",
       "      <td>1.601186e+09</td>\n",
       "    </tr>\n",
       "    <tr>\n",
       "      <th>25%</th>\n",
       "      <td>-20.90500</td>\n",
       "      <td>-20.90500</td>\n",
       "      <td>46.625000</td>\n",
       "      <td>70.000000</td>\n",
       "      <td>10.000000</td>\n",
       "      <td>4.575000</td>\n",
       "      <td>1.601186e+09</td>\n",
       "    </tr>\n",
       "    <tr>\n",
       "      <th>50%</th>\n",
       "      <td>11.21000</td>\n",
       "      <td>11.21000</td>\n",
       "      <td>62.305000</td>\n",
       "      <td>80.000000</td>\n",
       "      <td>41.000000</td>\n",
       "      <td>7.160000</td>\n",
       "      <td>1.601186e+09</td>\n",
       "    </tr>\n",
       "    <tr>\n",
       "      <th>75%</th>\n",
       "      <td>53.38500</td>\n",
       "      <td>53.38500</td>\n",
       "      <td>77.825000</td>\n",
       "      <td>87.000000</td>\n",
       "      <td>75.000000</td>\n",
       "      <td>12.352500</td>\n",
       "      <td>1.601186e+09</td>\n",
       "    </tr>\n",
       "    <tr>\n",
       "      <th>max</th>\n",
       "      <td>77.48000</td>\n",
       "      <td>77.48000</td>\n",
       "      <td>94.460000</td>\n",
       "      <td>100.000000</td>\n",
       "      <td>100.000000</td>\n",
       "      <td>25.280000</td>\n",
       "      <td>1.601186e+09</td>\n",
       "    </tr>\n",
       "  </tbody>\n",
       "</table>\n",
       "</div>"
      ],
      "text/plain": [
       "            Lat       Lng   Max Temp    Humidity  Cloudiness  Wind Speed  \\\n",
       "count  82.00000  82.00000  82.000000   82.000000   82.000000   82.000000   \n",
       "mean   13.82878  13.82878  61.896585   76.231707   45.548780    8.666829   \n",
       "std    39.63163  39.63163  17.926690   16.675034   36.426877    5.169812   \n",
       "min   -54.80000 -54.80000  12.000000   14.000000    0.000000    0.650000   \n",
       "25%   -20.90500 -20.90500  46.625000   70.000000   10.000000    4.575000   \n",
       "50%    11.21000  11.21000  62.305000   80.000000   41.000000    7.160000   \n",
       "75%    53.38500  53.38500  77.825000   87.000000   75.000000   12.352500   \n",
       "max    77.48000  77.48000  94.460000  100.000000  100.000000   25.280000   \n",
       "\n",
       "               Date  \n",
       "count  8.200000e+01  \n",
       "mean   1.601186e+09  \n",
       "std    9.501693e+01  \n",
       "min    1.601186e+09  \n",
       "25%    1.601186e+09  \n",
       "50%    1.601186e+09  \n",
       "75%    1.601186e+09  \n",
       "max    1.601186e+09  "
      ]
     },
     "execution_count": 5,
     "metadata": {},
     "output_type": "execute_result"
    }
   ],
   "source": [
    "# Create a dataframe that shows the max humidity\n",
    "geo_weather_data_df.describe()"
   ]
  },
  {
   "cell_type": "code",
   "execution_count": 6,
   "metadata": {},
   "outputs": [
    {
     "data": {
      "text/html": [
       "<div>\n",
       "<style scoped>\n",
       "    .dataframe tbody tr th:only-of-type {\n",
       "        vertical-align: middle;\n",
       "    }\n",
       "\n",
       "    .dataframe tbody tr th {\n",
       "        vertical-align: top;\n",
       "    }\n",
       "\n",
       "    .dataframe thead th {\n",
       "        text-align: right;\n",
       "    }\n",
       "</style>\n",
       "<table border=\"1\" class=\"dataframe\">\n",
       "  <thead>\n",
       "    <tr style=\"text-align: right;\">\n",
       "      <th></th>\n",
       "      <th>City</th>\n",
       "      <th>Lat</th>\n",
       "      <th>Lng</th>\n",
       "      <th>Max Temp</th>\n",
       "      <th>Humidity</th>\n",
       "      <th>Cloudiness</th>\n",
       "      <th>Wind Speed</th>\n",
       "      <th>Country</th>\n",
       "      <th>Date</th>\n",
       "      <th>Hemisphere</th>\n",
       "    </tr>\n",
       "  </thead>\n",
       "  <tbody>\n",
       "    <tr>\n",
       "      <th>0</th>\n",
       "      <td>San Jose</td>\n",
       "      <td>37.34</td>\n",
       "      <td>37.34</td>\n",
       "      <td>69.01</td>\n",
       "      <td>75</td>\n",
       "      <td>61</td>\n",
       "      <td>2.01</td>\n",
       "      <td>US</td>\n",
       "      <td>1601186009</td>\n",
       "      <td>Northern Hemisphere</td>\n",
       "    </tr>\n",
       "    <tr>\n",
       "      <th>1</th>\n",
       "      <td>Puerto Ayora</td>\n",
       "      <td>-0.74</td>\n",
       "      <td>-0.74</td>\n",
       "      <td>69.01</td>\n",
       "      <td>88</td>\n",
       "      <td>13</td>\n",
       "      <td>5.01</td>\n",
       "      <td>EC</td>\n",
       "      <td>1601185906</td>\n",
       "      <td>Southern Hemisphere</td>\n",
       "    </tr>\n",
       "    <tr>\n",
       "      <th>2</th>\n",
       "      <td>Albany</td>\n",
       "      <td>42.60</td>\n",
       "      <td>42.60</td>\n",
       "      <td>68.00</td>\n",
       "      <td>96</td>\n",
       "      <td>14</td>\n",
       "      <td>4.54</td>\n",
       "      <td>US</td>\n",
       "      <td>1601185716</td>\n",
       "      <td>Northern Hemisphere</td>\n",
       "    </tr>\n",
       "    <tr>\n",
       "      <th>3</th>\n",
       "      <td>Port-Gentil</td>\n",
       "      <td>-0.72</td>\n",
       "      <td>-0.72</td>\n",
       "      <td>77.00</td>\n",
       "      <td>83</td>\n",
       "      <td>20</td>\n",
       "      <td>11.41</td>\n",
       "      <td>GA</td>\n",
       "      <td>1601186064</td>\n",
       "      <td>Southern Hemisphere</td>\n",
       "    </tr>\n",
       "    <tr>\n",
       "      <th>4</th>\n",
       "      <td>Vaini</td>\n",
       "      <td>-21.20</td>\n",
       "      <td>-21.20</td>\n",
       "      <td>75.20</td>\n",
       "      <td>73</td>\n",
       "      <td>20</td>\n",
       "      <td>10.29</td>\n",
       "      <td>TO</td>\n",
       "      <td>1601185912</td>\n",
       "      <td>Southern Hemisphere</td>\n",
       "    </tr>\n",
       "  </tbody>\n",
       "</table>\n",
       "</div>"
      ],
      "text/plain": [
       "           City    Lat    Lng  Max Temp  Humidity  Cloudiness  Wind Speed  \\\n",
       "0      San Jose  37.34  37.34     69.01        75          61        2.01   \n",
       "1  Puerto Ayora  -0.74  -0.74     69.01        88          13        5.01   \n",
       "2        Albany  42.60  42.60     68.00        96          14        4.54   \n",
       "3   Port-Gentil  -0.72  -0.72     77.00        83          20       11.41   \n",
       "4         Vaini -21.20 -21.20     75.20        73          20       10.29   \n",
       "\n",
       "  Country        Date           Hemisphere  \n",
       "0      US  1601186009  Northern Hemisphere  \n",
       "1      EC  1601185906  Southern Hemisphere  \n",
       "2      US  1601185716  Northern Hemisphere  \n",
       "3      GA  1601186064  Southern Hemisphere  \n",
       "4      TO  1601185912  Southern Hemisphere  "
      ]
     },
     "execution_count": 6,
     "metadata": {},
     "output_type": "execute_result"
    }
   ],
   "source": [
    "# Make a new DataFrame after dropping all cities with humidity > 100\n",
    "clean_city_data = geo_weather_data_df[geo_weather_data_df[\"Humidity\"]<=100]\n",
    "clean_city_data.head()"
   ]
  },
  {
   "cell_type": "markdown",
   "metadata": {},
   "source": [
    "## Plotting the Data\n",
    "* Use proper labeling of the plots using plot titles (including date of analysis) and axes labels.\n",
    "* Save the plotted figures as .pngs."
   ]
  },
  {
   "cell_type": "code",
   "execution_count": null,
   "metadata": {},
   "outputs": [],
   "source": []
  },
  {
   "cell_type": "markdown",
   "metadata": {},
   "source": [
    "### Latitude vs. Temperature Plot"
   ]
  },
  {
   "cell_type": "code",
   "execution_count": 15,
   "metadata": {},
   "outputs": [
    {
     "data": {
      "text/plain": [
       "Text(0.5, 0, 'Latitude')"
      ]
     },
     "execution_count": 15,
     "metadata": {},
     "output_type": "execute_result"
    },
    {
     "data": {
      "image/png": "[encoded data removed]",
      "text/plain": [
       "<Figure size 432x288 with 1 Axes>"
      ]
     },
     "metadata": {
      "needs_background": "light"
     },
     "output_type": "display_data"
    }
   ],
   "source": [
    "clean_city_data.plot(kind=\"scatter\", x=\"Lat\", y=\"Max Temp\", grid=True)\n",
    "date_of_analysis = '09/27/20'\n",
    "plt.title(f'City Latitude vs. Max Temperature ({date_of_analysis})')\n",
    "plt.ylabel(f\"Max Temperature (F)\")\n",
    "plt.xlabel(f'Latitude')"
   ]
  },
  {
   "cell_type": "markdown",
   "metadata": {},
   "source": [
    "### Latitude vs. Humidity Plot"
   ]
  },
  {
   "cell_type": "code",
   "execution_count": 18,
   "metadata": {},
   "outputs": [
    {
     "data": {
      "text/plain": [
       "Text(0.5, 0, 'Latitude')"
      ]
     },
     "execution_count": 18,
     "metadata": {},
     "output_type": "execute_result"
    },
    {
     "data": {
      "image/png": "[encoded data removed]",
      "text/plain": [
       "<Figure size 432x288 with 1 Axes>"
      ]
     },
     "metadata": {
      "needs_background": "light"
     },
     "output_type": "display_data"
    }
   ],
   "source": [
    "clean_city_data.plot(kind=\"scatter\", x='Lat', y='Humidity', grid=True)\n",
    "plt.title(f'City Latitude vs. Humidity ({date_of_analysis})')\n",
    "plt.ylabel(f'Humidity (%)')\n",
    "plt.xlabel(f'Latitude')"
   ]
  },
  {
   "cell_type": "markdown",
   "metadata": {},
   "source": [
    "### Latitude vs. Cloudiness Plot"
   ]
  },
  {
   "cell_type": "code",
   "execution_count": 21,
   "metadata": {},
   "outputs": [
    {
     "data": {
      "text/plain": [
       "Text(0.5, 0, 'Latitude')"
      ]
     },
     "execution_count": 21,
     "metadata": {},
     "output_type": "execute_result"
    },
    {
     "data": {
      "image/png": "[encoded data removed]",
      "text/plain": [
       "<Figure size 432x288 with 1 Axes>"
      ]
     },
     "metadata": {
      "needs_background": "light"
     },
     "output_type": "display_data"
    }
   ],
   "source": [
    "clean_city_data.plot(kind=\"scatter\", x='Lat', y='Cloudiness', grid=True)\n",
    "plt.title(f'City Latitude vs. Cloudiness ({date_of_analysis})')\n",
    "plt.ylabel(f'Cloudiness (%)')\n",
    "plt.xlabel(f'Latitude')"
   ]
  },
  {
   "cell_type": "markdown",
   "metadata": {},
   "source": [
    "### Latitude vs. Wind Speed"
   ]
  },
  {
   "cell_type": "code",
   "execution_count": 23,
   "metadata": {},
   "outputs": [
    {
     "data": {
      "text/plain": [
       "Text(0.5, 0, 'Latitude')"
      ]
     },
     "execution_count": 23,
     "metadata": {},
     "output_type": "execute_result"
    },
    {
     "data": {
      "image/png": "[encoded data removed]",
      "text/plain": [
       "<Figure size 432x288 with 1 Axes>"
      ]
     },
     "metadata": {
      "needs_background": "light"
     },
     "output_type": "display_data"
    }
   ],
   "source": [
    "clean_city_data.plot(kind=\"scatter\", x=\"Lat\", y=\"Wind Speed\", grid=True)\n",
    "plt.title(f'City Latitude vs. Wind Speed ({date_of_analysis})')\n",
    "plt.ylabel(f'Wind Speed (mph)')\n",
    "plt.xlabel(f'Latitude')"
   ]
  },
  {
   "cell_type": "markdown",
   "metadata": {},
   "source": [
    "## Linear Regression"
   ]
  },
  {
   "cell_type": "code",
   "execution_count": null,
   "metadata": {},
   "outputs": [],
   "source": []
  },
  {
   "cell_type": "markdown",
   "metadata": {},
   "source": [
    "####  Northern Hemisphere - Max Temp vs. Latitude Linear Regression"
   ]
  },
  {
   "cell_type": "code",
   "execution_count": null,
   "metadata": {},
   "outputs": [],
   "source": []
  },
  {
   "cell_type": "code",
   "execution_count": null,
   "metadata": {},
   "outputs": [],
   "source": []
  },
  {
   "cell_type": "code",
   "execution_count": null,
   "metadata": {},
   "outputs": [],
   "source": []
  },
  {
   "cell_type": "code",
   "execution_count": null,
   "metadata": {},
   "outputs": [],
   "source": []
  },
  {
   "cell_type": "code",
   "execution_count": null,
   "metadata": {},
   "outputs": [],
   "source": []
  }
 ],
 "metadata": {
  "celltoolbar": "Raw Cell Format",
  "kernelspec": {
   "display_name": "Python 3",
   "language": "python",
   "name": "python3"
  },
  "language_info": {
   "codemirror_mode": {
    "name": "ipython",
    "version": 3
   },
   "file_extension": ".py",
   "mimetype": "text/x-python",
   "name": "python",
   "nbconvert_exporter": "python",
   "pygments_lexer": "ipython3",
   "version": "3.6.10"
  }
 },
 "nbformat": 4,
 "nbformat_minor": 4
}
