{
 "cells": [
  {
   "cell_type": "markdown",
   "metadata": {},
   "source": [
    "# WeatherPy"
   ]
  },
  {
   "cell_type": "code",
   "execution_count": 12,
   "metadata": {},
   "outputs": [],
   "source": [
    "import matplotlib.pyplot as plt\n",
    "import requests\n",
    "import pandas as pd\n",
    "import numpy as np\n",
    "import random\n",
    "from config import weather_api_key\n",
    "from config import g_key\n",
    "from citipy import citipy\n",
    "from pprint import pprint\n"
   ]
  },
  {
   "cell_type": "markdown",
   "metadata": {},
   "source": [
    "## Generate Cities List"
   ]
  },
  {
   "cell_type": "code",
   "execution_count": 31,
   "metadata": {},
   "outputs": [
    {
     "name": "stdout",
     "output_type": "stream",
     "text": [
      "There are 751 cities in the generted list.\n"
     ]
    }
   ],
   "source": [
    "lat = np.random.uniform(low = -90.000, high = 90.000, size = 2000 )\n",
    "lng = np.random.uniform(low = -180.000, high = 180.000, size = 2000)\n",
    "coordinates = zip(lat, lng)\n",
    "\n",
    "city_list = []\n",
    "\n",
    "for lat_long in coordinates:\n",
    "    city = citipy.nearest_city(lat_long[0], lat_long[1])\n",
    "    city = city.city_name\n",
    "    \n",
    "    if city not in city_list:\n",
    "        city_list.append(city)    \n",
    "\n",
    "print(f'There are {len(city_list)} cities in the generted list.')"
   ]
  },
  {
   "cell_type": "markdown",
   "metadata": {},
   "source": [
    "### Perform API Calls"
   ]
  },
  {
   "cell_type": "code",
   "execution_count": null,
   "metadata": {},
   "outputs": [],
   "source": [
    "for city in city_list:\n",
    "    query = target_url\n",
    "    response = requests.get(query)\n",
    "    response_json = response.json()\n",
    "    \n",
    "#     try:\n",
    "#         city_list.append(response_json)"
   ]
  },
  {
   "cell_type": "code",
   "execution_count": null,
   "metadata": {},
   "outputs": [],
   "source": [
    "city_list = []\n",
    "city_list = [city for city in cities_df[\"City Name\"]]\n",
    "\n",
    "random_city_list = []\n",
    "random_city_list = random.choices(city_list, k=1000)\n",
    "\n",
    "\n",
    "city = random_city_list[0]\n",
    "city\n",
    "city_url = \"http://api.openweathermap.org/data/2.5/weather?q=\" + city + \"&appid=\" + weather_api_key\n",
    "# city_data = requests.get(city_url)\n",
    "# pprint(city_data.json())\n",
    "\n",
    "print(city)\n",
    "# print(weather_api_key)\n",
    "\n",
    "# Target city\n",
    "# target_city = \"Boise, Idaho\"\n",
    "\n",
    "# Build the endpoint URL\n",
    "target_url = ('https://maps.googleapis.com/maps/api/geocode/json?'\n",
    "    'address={0}&key={1}').format(city, g_key)\n",
    "\n",
    "json_request = requests.get(target_url).json()\n",
    "pprint(json_request)\n",
    "\n",
    "lat = json_request['results'][0]['geometry']['location']['lat']\n",
    "lng = json_request['results'][0]['geometry']['location']['lng']\n",
    "print(lat, lon)"
   ]
  },
  {
   "cell_type": "code",
   "execution_count": null,
   "metadata": {},
   "outputs": [],
   "source": []
  },
  {
   "cell_type": "code",
   "execution_count": null,
   "metadata": {},
   "outputs": [],
   "source": [
    "city = citipy.nearest_city(lat, lng)\n",
    "city\n",
    "city.city_name"
   ]
  },
  {
   "cell_type": "markdown",
   "metadata": {},
   "source": [
    "# WeatherPy\n",
    "### Generate Cities List"
   ]
  },
  {
   "cell_type": "code",
   "execution_count": null,
   "metadata": {},
   "outputs": [],
   "source": [
    "url = \"http://api.openweathermap.org/data/2.5/weather?\"\n",
    "units = \"imperial\""
   ]
  },
  {
   "cell_type": "code",
   "execution_count": null,
   "metadata": {},
   "outputs": [],
   "source": []
  },
  {
   "cell_type": "markdown",
   "metadata": {},
   "source": [
    "### Perform API Calls\n",
    "Perform a weather check on each city using a series of successive API calls.\n",
    "\n",
    "Include a print log of each city as it'sbeing processed (with the city number and city name)."
   ]
  },
  {
   "cell_type": "code",
   "execution_count": null,
   "metadata": {},
   "outputs": [],
   "source": []
  }
 ],
 "metadata": {
  "kernelspec": {
   "display_name": "Python 3",
   "language": "python",
   "name": "python3"
  },
  "language_info": {
   "codemirror_mode": {
    "name": "ipython",
    "version": 3
   },
   "file_extension": ".py",
   "mimetype": "text/x-python",
   "name": "python",
   "nbconvert_exporter": "python",
   "pygments_lexer": "ipython3",
   "version": "3.6.10"
  }
 },
 "nbformat": 4,
 "nbformat_minor": 4
}
